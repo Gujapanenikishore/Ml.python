{
 "cells": [
  {
   "cell_type": "code",
   "execution_count": 2,
   "id": "1df022e4",
   "metadata": {},
   "outputs": [],
   "source": [
    "!pip install keras_tuner -q"
   ]
  },
  {
   "cell_type": "code",
   "execution_count": null,
   "id": "bcdf8dd5",
   "metadata": {},
   "outputs": [
    {
     "name": "stdout",
     "output_type": "stream",
     "text": [
      "Reloading Tuner from keras_tuner_dir\\feedforward_nn\\tuner0.json\n",
      "Epoch 1/10\n",
      "15/15 [==============================] - 2s 30ms/step - loss: 50.4288 - accuracy: 0.5033 - val_loss: 9.0438 - val_accuracy: 0.6579\n",
      "Epoch 2/10\n",
      "15/15 [==============================] - 0s 11ms/step - loss: 10.3569 - accuracy: 0.6132 - val_loss: 0.2847 - val_accuracy: 0.9386\n",
      "Epoch 3/10\n",
      "15/15 [==============================] - 0s 11ms/step - loss: 0.6820 - accuracy: 0.7495 - val_loss: 0.3252 - val_accuracy: 0.9298\n",
      "Epoch 4/10\n",
      "15/15 [==============================] - 0s 10ms/step - loss: 0.5246 - accuracy: 0.7451 - val_loss: 0.2717 - val_accuracy: 0.8860\n",
      "Epoch 5/10\n",
      "15/15 [==============================] - 0s 10ms/step - loss: 0.5426 - accuracy: 0.7473 - val_loss: 0.2904 - val_accuracy: 0.9211\n",
      "Epoch 6/10\n",
      "15/15 [==============================] - 0s 10ms/step - loss: 0.4748 - accuracy: 0.7956 - val_loss: 0.2783 - val_accuracy: 0.9561\n",
      "Epoch 7/10\n",
      "15/15 [==============================] - 0s 10ms/step - loss: 0.4838 - accuracy: 0.7626 - val_loss: 0.3354 - val_accuracy: 0.9386\n",
      "Epoch 8/10\n"
     ]
    }
   ],
   "source": [
    "import tensorflow as tf\n",
    "from tensorflow import keras\n",
    "from tensorflow.keras import layers\n",
    "from kerastuner.tuners import Hyperband\n",
    "\n",
    "# Load your dataset or generate a sample dataset\n",
    "# For example, let's use the built-in Breast Cancer dataset for binary classification\n",
    "from sklearn.datasets import load_breast_cancer\n",
    "from sklearn.model_selection import train_test_split\n",
    "\n",
    "data = load_breast_cancer()\n",
    "x_train, x_test, y_train, y_test = train_test_split(data.data, data.target, test_size=0.2, random_state=42)\n",
    "\n",
    "# Define the model-building function for Keras Tuner\n",
    "def build_model(hp):\n",
    "    model = keras.Sequential()\n",
    "    model.add(layers.InputLayer(input_shape=(x_train.shape[1],)))\n",
    "\n",
    "    # Tune the number of hidden layers and units\n",
    "    for i in range(hp.Int('num_layers', 1, 4)):\n",
    "        model.add(layers.Dense(units=hp.Int(f'units_{i}', 32, 256, 32),\n",
    "                               activation='relu'))\n",
    "        model.add(layers.Dropout(0.5))\n",
    "\n",
    "    model.add(layers.Dense(1, activation='sigmoid'))\n",
    "\n",
    "    # Tune the learning rate\n",
    "    hp_learning_rate = hp.Choice('learning_rate', values=[1e-2, 1e-3, 1e-4])\n",
    "    model.compile(optimizer=keras.optimizers.Adam(learning_rate=hp_learning_rate),\n",
    "                  loss='binary_crossentropy',\n",
    "                  metrics=['accuracy'])\n",
    "    \n",
    "    return model\n",
    "\n",
    "# Instantiate the tuner and perform hyperparameter search\n",
    "tuner = Hyperband(build_model,\n",
    "                  objective='val_accuracy',\n",
    "                  max_epochs=10,\n",
    "                  factor=3,\n",
    "                  directory='keras_tuner_dir',\n",
    "                  project_name='feedforward_nn')\n",
    "\n",
    "tuner.search(x_train, y_train, epochs=10, validation_data=(x_test, y_test))\n",
    "\n",
    "# Get the best hyperparameters\n",
    "best_hps = tuner.get_best_hyperparameters(num_trials=1)[0]\n",
    "best_model = tuner.hypermodel.build(best_hps)\n",
    "\n",
    "# Train the best model\n",
    "best_model.fit(x_train, y_train, epochs=10, validation_data=(x_test, y_test))\n"
   ]
  },
  {
   "cell_type": "code",
   "execution_count": null,
   "id": "98157aea",
   "metadata": {},
   "outputs": [],
   "source": []
  }
 ],
 "metadata": {
  "kernelspec": {
   "display_name": "Python 3 (ipykernel)",
   "language": "python",
   "name": "python3"
  },
  "language_info": {
   "codemirror_mode": {
    "name": "ipython",
    "version": 3
   },
   "file_extension": ".py",
   "mimetype": "text/x-python",
   "name": "python",
   "nbconvert_exporter": "python",
   "pygments_lexer": "ipython3",
   "version": "3.11.4"
  }
 },
 "nbformat": 4,
 "nbformat_minor": 5
}
